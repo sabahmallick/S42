{
 "cells": [
  {
   "cell_type": "code",
   "execution_count": 1,
   "metadata": {},
   "outputs": [],
   "source": [
    "from allensdk.api.queries.cell_types_api import CellTypesApi\n",
    "\n",
    "cta = CellTypesApi() # the CellTypesApi instance\n",
    "\n",
    "cells = cta.list_cells_api() # Query the API for a list of all cells in the Cell Types Database."
   ]
  },
  {
   "cell_type": "code",
   "execution_count": 2,
   "metadata": {},
   "outputs": [
    {
     "data": {
      "text/plain": [
       "2331"
      ]
     },
     "execution_count": 2,
     "metadata": {},
     "output_type": "execute_result"
    }
   ],
   "source": [
    "len(cells)"
   ]
  },
  {
   "cell_type": "code",
   "execution_count": 3,
   "metadata": {},
   "outputs": [
    {
     "name": "stdout",
     "output_type": "stream",
     "text": [
      "[525011903, 565871768, 469801138, 528642047, 605889373, 537256313, 485909730, 323865917, 583836069, 504615116]\n",
      "525011903\n"
     ]
    }
   ],
   "source": [
    "specimen_id_list = [cell['specimen__id'] for cell in cells] # store the specimen IDs in a list\n",
    "print(specimen_id_list[:10]) # displace the first 10 IDs\n",
    "\n",
    "idx = 0  # select an index for an ID from the list\n",
    "cell_id = specimen_id_list[idx] # the ID of the first cell from the list\n",
    "print(cell_id)"
   ]
  },
  {
   "cell_type": "code",
   "execution_count": 4,
   "metadata": {},
   "outputs": [
    {
     "data": {
      "text/plain": [
       "{'cell_reporter_status': None,\n",
       " 'csl__normalized_depth': None,\n",
       " 'csl__x': 273.0,\n",
       " 'csl__y': 354.0,\n",
       " 'csl__z': 216.0,\n",
       " 'donor__age': '25 yrs',\n",
       " 'donor__disease_state': 'epilepsy',\n",
       " 'donor__id': 524848408,\n",
       " 'donor__name': 'H16.03.003',\n",
       " 'donor__race': 'White or Caucasian',\n",
       " 'donor__sex': 'Male',\n",
       " 'donor__species': 'Homo Sapiens',\n",
       " 'donor__years_of_seizure_history': '9',\n",
       " 'ef__adaptation': 0.0278459596639436,\n",
       " 'ef__avg_firing_rate': 13.5725111407696,\n",
       " 'ef__avg_isi': 73.6783333333333,\n",
       " 'ef__f_i_curve_slope': 0.1671875,\n",
       " 'ef__fast_trough_v_long_square': -53.8750038146973,\n",
       " 'ef__peak_t_ramp': 4.10410666666667,\n",
       " 'ef__ri': 159.531131386757,\n",
       " 'ef__tau': 21.1810256736186,\n",
       " 'ef__threshold_i_long_square': 90.0,\n",
       " 'ef__upstroke_downstroke_ratio_long_square': 2.89546090494073,\n",
       " 'ef__vrest': -70.56103515625,\n",
       " 'ephys_inst_thresh_thumb_path': '/api/v2/well_known_file_download/529903142',\n",
       " 'ephys_thumb_path': '/api/v2/well_known_file_download/529903140',\n",
       " 'erwkf__id': 618211597,\n",
       " 'line_name': '',\n",
       " 'm__biophys': 0,\n",
       " 'm__biophys_all_active': 0,\n",
       " 'm__biophys_perisomatic': 0,\n",
       " 'm__glif': 5,\n",
       " 'morph_thumb_path': None,\n",
       " 'nr__average_contraction': None,\n",
       " 'nr__average_parent_daughter_ratio': None,\n",
       " 'nr__max_euclidean_distance': None,\n",
       " 'nr__number_bifurcations': None,\n",
       " 'nr__number_stems': None,\n",
       " 'nr__reconstruction_type': None,\n",
       " 'nrwkf__id': None,\n",
       " 'si__height': None,\n",
       " 'si__path': None,\n",
       " 'si__width': None,\n",
       " 'specimen__hemisphere': 'right',\n",
       " 'specimen__id': 525011903,\n",
       " 'specimen__name': 'H16.03.003.01.14.02',\n",
       " 'structure__acronym': 'FroL',\n",
       " 'structure__id': 12113,\n",
       " 'structure__layer': '3',\n",
       " 'structure__name': '\"frontal lobe\"',\n",
       " 'structure_parent__acronym': 'FroL',\n",
       " 'structure_parent__id': 12113,\n",
       " 'tag__apical': 'intact',\n",
       " 'tag__dendrite_type': 'spiny'}"
      ]
     },
     "execution_count": 4,
     "metadata": {},
     "output_type": "execute_result"
    }
   ],
   "source": [
    "cell = cells[idx]            # Get the selected cell from the list of all cells\n",
    "#cell = cta.get_cell(cell_id) # A method to retrieve a single cell from the database, returning the same cell as in the line above\n",
    "cell"
   ]
  },
  {
   "cell_type": "code",
   "execution_count": 5,
   "metadata": {},
   "outputs": [
    {
     "data": {
      "text/html": [
       "<div>\n",
       "<style scoped>\n",
       "    .dataframe tbody tr th:only-of-type {\n",
       "        vertical-align: middle;\n",
       "    }\n",
       "\n",
       "    .dataframe tbody tr th {\n",
       "        vertical-align: top;\n",
       "    }\n",
       "\n",
       "    .dataframe thead th {\n",
       "        text-align: right;\n",
       "    }\n",
       "</style>\n",
       "<table border=\"1\" class=\"dataframe\">\n",
       "  <thead>\n",
       "    <tr style=\"text-align: right;\">\n",
       "      <th></th>\n",
       "      <th>cell_reporter_status</th>\n",
       "      <th>csl__normalized_depth</th>\n",
       "      <th>csl__x</th>\n",
       "      <th>csl__y</th>\n",
       "      <th>csl__z</th>\n",
       "      <th>donor__age</th>\n",
       "      <th>donor__disease_state</th>\n",
       "      <th>donor__id</th>\n",
       "      <th>donor__name</th>\n",
       "      <th>donor__race</th>\n",
       "      <th>...</th>\n",
       "      <th>specimen__id</th>\n",
       "      <th>specimen__name</th>\n",
       "      <th>structure__acronym</th>\n",
       "      <th>structure__id</th>\n",
       "      <th>structure__layer</th>\n",
       "      <th>structure__name</th>\n",
       "      <th>structure_parent__acronym</th>\n",
       "      <th>structure_parent__id</th>\n",
       "      <th>tag__apical</th>\n",
       "      <th>tag__dendrite_type</th>\n",
       "    </tr>\n",
       "  </thead>\n",
       "  <tbody>\n",
       "    <tr>\n",
       "      <th>0</th>\n",
       "      <td>None</td>\n",
       "      <td>NaN</td>\n",
       "      <td>273.0</td>\n",
       "      <td>354.0</td>\n",
       "      <td>216.0</td>\n",
       "      <td>25 yrs</td>\n",
       "      <td>epilepsy</td>\n",
       "      <td>524848408</td>\n",
       "      <td>H16.03.003</td>\n",
       "      <td>White or Caucasian</td>\n",
       "      <td>...</td>\n",
       "      <td>525011903</td>\n",
       "      <td>H16.03.003.01.14.02</td>\n",
       "      <td>FroL</td>\n",
       "      <td>12113</td>\n",
       "      <td>3</td>\n",
       "      <td>\"frontal lobe\"</td>\n",
       "      <td>FroL</td>\n",
       "      <td>12113</td>\n",
       "      <td>intact</td>\n",
       "      <td>spiny</td>\n",
       "    </tr>\n",
       "  </tbody>\n",
       "</table>\n",
       "<p>1 rows × 54 columns</p>\n",
       "</div>"
      ],
      "text/plain": [
       "  cell_reporter_status  csl__normalized_depth  csl__x  csl__y  csl__z  \\\n",
       "0                 None                    NaN   273.0   354.0   216.0   \n",
       "\n",
       "  donor__age donor__disease_state  donor__id donor__name         donor__race  \\\n",
       "0     25 yrs             epilepsy  524848408  H16.03.003  White or Caucasian   \n",
       "\n",
       "   ... specimen__id       specimen__name structure__acronym  structure__id  \\\n",
       "0  ...    525011903  H16.03.003.01.14.02               FroL          12113   \n",
       "\n",
       "   structure__layer  structure__name  structure_parent__acronym  \\\n",
       "0                 3   \"frontal lobe\"                       FroL   \n",
       "\n",
       "   structure_parent__id  tag__apical  tag__dendrite_type  \n",
       "0                 12113       intact               spiny  \n",
       "\n",
       "[1 rows x 54 columns]"
      ]
     },
     "execution_count": 5,
     "metadata": {},
     "output_type": "execute_result"
    }
   ],
   "source": [
    "import pandas as pd\n",
    "cells_df = pd.DataFrame(cells)\n",
    "cell_df = cells_df[cells_df.specimen__id==cell_id] # get a cell according to its ID\n",
    "cell_df"
   ]
  },
  {
   "cell_type": "code",
   "execution_count": 6,
   "metadata": {},
   "outputs": [],
   "source": [
    "ephys_features = cta.get_ephys_features()"
   ]
  },
  {
   "cell_type": "code",
   "execution_count": 7,
   "metadata": {},
   "outputs": [
    {
     "data": {
      "text/html": [
       "<div>\n",
       "<style scoped>\n",
       "    .dataframe tbody tr th:only-of-type {\n",
       "        vertical-align: middle;\n",
       "    }\n",
       "\n",
       "    .dataframe tbody tr th {\n",
       "        vertical-align: top;\n",
       "    }\n",
       "\n",
       "    .dataframe thead th {\n",
       "        text-align: right;\n",
       "    }\n",
       "</style>\n",
       "<table border=\"1\" class=\"dataframe\">\n",
       "  <thead>\n",
       "    <tr style=\"text-align: right;\">\n",
       "      <th></th>\n",
       "      <th>adaptation</th>\n",
       "      <th>avg_isi</th>\n",
       "      <th>electrode_0_pa</th>\n",
       "      <th>f_i_curve_slope</th>\n",
       "      <th>fast_trough_t_long_square</th>\n",
       "      <th>fast_trough_t_ramp</th>\n",
       "      <th>fast_trough_t_short_square</th>\n",
       "      <th>fast_trough_v_long_square</th>\n",
       "      <th>fast_trough_v_ramp</th>\n",
       "      <th>fast_trough_v_short_square</th>\n",
       "      <th>...</th>\n",
       "      <th>trough_t_ramp</th>\n",
       "      <th>trough_t_short_square</th>\n",
       "      <th>trough_v_long_square</th>\n",
       "      <th>trough_v_ramp</th>\n",
       "      <th>trough_v_short_square</th>\n",
       "      <th>upstroke_downstroke_ratio_long_square</th>\n",
       "      <th>upstroke_downstroke_ratio_ramp</th>\n",
       "      <th>upstroke_downstroke_ratio_short_square</th>\n",
       "      <th>vm_for_sag</th>\n",
       "      <th>vrest</th>\n",
       "    </tr>\n",
       "  </thead>\n",
       "  <tbody>\n",
       "    <tr>\n",
       "      <th>1564</th>\n",
       "      <td>0.027846</td>\n",
       "      <td>73.678333</td>\n",
       "      <td>8.172499</td>\n",
       "      <td>0.167187</td>\n",
       "      <td>1.11848</td>\n",
       "      <td>4.105853</td>\n",
       "      <td>1.025173</td>\n",
       "      <td>-53.875004</td>\n",
       "      <td>-58.833337</td>\n",
       "      <td>-56.635418</td>\n",
       "      <td>...</td>\n",
       "      <td>4.134987</td>\n",
       "      <td>1.375253</td>\n",
       "      <td>-53.968754</td>\n",
       "      <td>-59.51042</td>\n",
       "      <td>-71.197919</td>\n",
       "      <td>2.895461</td>\n",
       "      <td>2.559876</td>\n",
       "      <td>3.099787</td>\n",
       "      <td>-88.843758</td>\n",
       "      <td>-70.561035</td>\n",
       "    </tr>\n",
       "  </tbody>\n",
       "</table>\n",
       "<p>1 rows × 56 columns</p>\n",
       "</div>"
      ],
      "text/plain": [
       "      adaptation    avg_isi  electrode_0_pa  f_i_curve_slope  \\\n",
       "1564    0.027846  73.678333        8.172499         0.167187   \n",
       "\n",
       "      fast_trough_t_long_square  fast_trough_t_ramp  \\\n",
       "1564                    1.11848            4.105853   \n",
       "\n",
       "      fast_trough_t_short_square  fast_trough_v_long_square  \\\n",
       "1564                    1.025173                 -53.875004   \n",
       "\n",
       "      fast_trough_v_ramp  fast_trough_v_short_square  ...  trough_t_ramp  \\\n",
       "1564          -58.833337                  -56.635418  ...       4.134987   \n",
       "\n",
       "      trough_t_short_square  trough_v_long_square  trough_v_ramp  \\\n",
       "1564               1.375253            -53.968754      -59.51042   \n",
       "\n",
       "      trough_v_short_square  upstroke_downstroke_ratio_long_square  \\\n",
       "1564             -71.197919                               2.895461   \n",
       "\n",
       "      upstroke_downstroke_ratio_ramp  upstroke_downstroke_ratio_short_square  \\\n",
       "1564                        2.559876                                3.099787   \n",
       "\n",
       "      vm_for_sag      vrest  \n",
       "1564  -88.843758 -70.561035  \n",
       "\n",
       "[1 rows x 56 columns]"
      ]
     },
     "execution_count": 7,
     "metadata": {},
     "output_type": "execute_result"
    }
   ],
   "source": [
    "import pandas as pd\n",
    "ef_df = pd.DataFrame(ephys_features)\n",
    "\n",
    "cell_ef = ef_df[ef_df.specimen_id==cell_id]\n",
    "cell_ef"
   ]
  },
  {
   "cell_type": "code",
   "execution_count": 17,
   "metadata": {},
   "outputs": [
    {
     "data": {
      "text/plain": [
       "{'adaptation': 0.0278459596639436,\n",
       " 'avg_isi': 73.6783333333333,\n",
       " 'electrode_0_pa': 8.17249913576124,\n",
       " 'f_i_curve_slope': 0.1671875,\n",
       " 'fast_trough_t_long_square': 1.11848,\n",
       " 'fast_trough_t_ramp': 4.10585333333333,\n",
       " 'fast_trough_t_short_square': 1.02517333333333,\n",
       " 'fast_trough_v_long_square': -53.8750038146973,\n",
       " 'fast_trough_v_ramp': -58.8333371480306,\n",
       " 'fast_trough_v_short_square': -56.6354179382324,\n",
       " 'has_burst': False,\n",
       " 'has_delay': False,\n",
       " 'has_pause': False,\n",
       " 'id': 525097092,\n",
       " 'input_resistance_mohm': 232.352528,\n",
       " 'latency': 0.0417000000000001,\n",
       " 'peak_t_long_square': 1.11668,\n",
       " 'peak_t_ramp': 4.10410666666667,\n",
       " 'peak_t_short_square': 1.02354,\n",
       " 'peak_v_long_square': 42.1562538146973,\n",
       " 'peak_v_ramp': 39.2187538146973,\n",
       " 'peak_v_short_square': 41.0208358764648,\n",
       " 'rheobase_sweep_id': 525031831,\n",
       " 'rheobase_sweep_number': 40,\n",
       " 'ri': 159.531131386757,\n",
       " 'sag': 0.128440782427788,\n",
       " 'seal_gohm': 1.125671168,\n",
       " 'slow_trough_t_long_square': 1.14262,\n",
       " 'slow_trough_t_ramp': 4.13498666666667,\n",
       " 'slow_trough_t_short_square': None,\n",
       " 'slow_trough_v_long_square': -53.4687538146973,\n",
       " 'slow_trough_v_ramp': -59.5104204813639,\n",
       " 'slow_trough_v_short_square': None,\n",
       " 'specimen_id': 525011903,\n",
       " 'tau': 21.1810256736186,\n",
       " 'threshold_i_long_square': 90.0,\n",
       " 'threshold_i_ramp': 77.0833333333333,\n",
       " 'threshold_i_short_square': 590.0,\n",
       " 'threshold_t_long_square': 1.11614,\n",
       " 'threshold_t_ramp': 4.10354,\n",
       " 'threshold_t_short_square': 1.02306666666667,\n",
       " 'threshold_v_long_square': -40.6250038146973,\n",
       " 'threshold_v_ramp': -45.4166679382324,\n",
       " 'threshold_v_short_square': -49.9166704813639,\n",
       " 'thumbnail_sweep_id': 525031835,\n",
       " 'trough_t_long_square': 1.11856,\n",
       " 'trough_t_ramp': 4.13498666666667,\n",
       " 'trough_t_short_square': 1.37525333333333,\n",
       " 'trough_v_long_square': -53.9687538146973,\n",
       " 'trough_v_ramp': -59.5104204813639,\n",
       " 'trough_v_short_square': -71.1979192097982,\n",
       " 'upstroke_downstroke_ratio_long_square': 2.89546090494073,\n",
       " 'upstroke_downstroke_ratio_ramp': 2.55987565805174,\n",
       " 'upstroke_downstroke_ratio_short_square': 3.09978714203629,\n",
       " 'vm_for_sag': -88.8437576293945,\n",
       " 'vrest': -70.56103515625}"
      ]
     },
     "execution_count": 17,
     "metadata": {},
     "output_type": "execute_result"
    }
   ],
   "source": [
    "from allensdk.api.queries.rma_api import RmaApi\n",
    "\n",
    "rma = RmaApi() # the RmaApi instance\n",
    "\n",
    "data = rma.model_query(model='EphysFeature',criteria='[specimen_id$eq'+str(cell_id)+']')[0] # or use criteria='[specimen_id$eq525011903]'\n",
    "data"
   ]
  },
  {
   "cell_type": "code",
   "execution_count": 9,
   "metadata": {},
   "outputs": [
    {
     "name": "stdout",
     "output_type": "stream",
     "text": [
      "[478307928, 488222410, 474980317]\n"
     ]
    },
    {
     "data": {
      "text/plain": [
       "{'adaptation': 0.00740522549424404,\n",
       " 'avg_isi': 36.1484,\n",
       " 'electrode_0_pa': 1.00812489866459,\n",
       " 'f_i_curve_slope': 0.275,\n",
       " 'fast_trough_t_long_square': 0.0190350000000001,\n",
       " 'fast_trough_t_ramp': None,\n",
       " 'fast_trough_t_short_square': 0.00507999999999997,\n",
       " 'fast_trough_v_long_square': -58.5625038146973,\n",
       " 'fast_trough_v_ramp': None,\n",
       " 'fast_trough_v_short_square': -59.1250038146973,\n",
       " 'has_burst': False,\n",
       " 'has_delay': False,\n",
       " 'has_pause': True,\n",
       " 'id': 478317914,\n",
       " 'input_resistance_mohm': 262.444656,\n",
       " 'latency': 2.40499999999999,\n",
       " 'peak_t_long_square': 0.0176400000000001,\n",
       " 'peak_t_ramp': None,\n",
       " 'peak_t_short_square': 0.00324999999999998,\n",
       " 'peak_v_long_square': 25.5625,\n",
       " 'peak_v_ramp': None,\n",
       " 'peak_v_short_square': 26.0312519073486,\n",
       " 'rheobase_sweep_id': 478315765,\n",
       " 'rheobase_sweep_number': 35,\n",
       " 'ri': 363.05,\n",
       " 'sag': 0.0857734918509824,\n",
       " 'seal_gohm': 1.764365056,\n",
       " 'slow_trough_t_long_square': 0.0226600000000001,\n",
       " 'slow_trough_t_ramp': None,\n",
       " 'slow_trough_t_short_square': 0.00826000000000016,\n",
       " 'slow_trough_v_long_square': -52.6250038146973,\n",
       " 'slow_trough_v_ramp': None,\n",
       " 'slow_trough_v_short_square': -55.75,\n",
       " 'specimen_id': 478307928,\n",
       " 'tau': 29.4139288802845,\n",
       " 'threshold_i_long_square': 50.0,\n",
       " 'threshold_i_ramp': None,\n",
       " 'threshold_i_short_square': 100.0,\n",
       " 'threshold_t_long_square': 0.0171750000000002,\n",
       " 'threshold_t_ramp': None,\n",
       " 'threshold_t_short_square': 0.00278500000000004,\n",
       " 'threshold_v_long_square': -40.28125,\n",
       " 'threshold_v_ramp': None,\n",
       " 'threshold_v_short_square': -40.9687538146973,\n",
       " 'thumbnail_sweep_id': 478315769,\n",
       " 'trough_t_long_square': 0.0190350000000001,\n",
       " 'trough_t_ramp': None,\n",
       " 'trough_t_short_square': 0.00507999999999997,\n",
       " 'trough_v_long_square': -58.5625038146973,\n",
       " 'trough_v_ramp': None,\n",
       " 'trough_v_short_square': -59.1250038146973,\n",
       " 'upstroke_downstroke_ratio_long_square': 1.68628968343494,\n",
       " 'upstroke_downstroke_ratio_ramp': None,\n",
       " 'upstroke_downstroke_ratio_short_square': 1.75797041896178,\n",
       " 'vm_for_sag': -90.84375,\n",
       " 'vrest': -50.7763247489929}"
      ]
     },
     "execution_count": 9,
     "metadata": {},
     "output_type": "execute_result"
    }
   ],
   "source": [
    "noEFcells = rma.model_query(model='EphysFeature',criteria='specimen(ephys_result[failed$eqtrue])',num_rows='all')\n",
    "\n",
    "noEF_id = [cell['specimen_id'] for cell in noEFcells]\n",
    "print(noEF_id) # display the IDs\n",
    "noEFcell = rma.model_query(model='EphysFeature',criteria='[specimen_id$eq'+str(noEF_id[0])+']')[0]\n",
    "noEFcell # display an example of the electrophysiology features from a failed recording."
   ]
  },
  {
   "cell_type": "code",
   "execution_count": 10,
   "metadata": {},
   "outputs": [
    {
     "name": "stdout",
     "output_type": "stream",
     "text": [
      "{'Mus musculus', 'Homo Sapiens'}\n"
     ]
    }
   ],
   "source": [
    "print(set([cell['donor__species'] for cell in cells]))"
   ]
  },
  {
   "cell_type": "code",
   "execution_count": 11,
   "metadata": {},
   "outputs": [
    {
     "name": "stdout",
     "output_type": "stream",
     "text": [
      "152\n"
     ]
    },
    {
     "data": {
      "text/plain": [
       "{'reporter_status': None,\n",
       " 'cell_soma_location': [79.0, 273.0, 91.0],\n",
       " 'species': 'Homo Sapiens',\n",
       " 'id': 519832676,\n",
       " 'name': 'H16.03.001.01.09.01',\n",
       " 'structure_layer_name': '3',\n",
       " 'structure_area_id': 12141,\n",
       " 'structure_area_abbrev': 'MTG',\n",
       " 'transgenic_line': '',\n",
       " 'dendrite_type': 'spiny',\n",
       " 'apical': 'truncated',\n",
       " 'reconstruction_type': 'full',\n",
       " 'disease_state': 'epilepsy',\n",
       " 'donor_id': 518641172,\n",
       " 'structure_hemisphere': 'left',\n",
       " 'normalized_depth': 0.29095064121937}"
      ]
     },
     "execution_count": 11,
     "metadata": {},
     "output_type": "execute_result"
    }
   ],
   "source": [
    "#mousecells = cta.filter_cells_api(cells,require_morphology=True,require_reconstruction=True,species=[CellTypesApi.MOUSE]) # mouse cells with morphological images\n",
    "#print(len(mousecells))\n",
    "humancells = cta.filter_cells_api(cells,require_morphology=True,require_reconstruction=True,species=[CellTypesApi.HUMAN]) # all human cells\n",
    "print(len(humancells))\n",
    "\n",
    "humancells[0] # display the first cell in the filtered list of human cells for example"
   ]
  },
  {
   "cell_type": "code",
   "execution_count": 12,
   "metadata": {},
   "outputs": [
    {
     "data": {
      "text/plain": [
       "519832676"
      ]
     },
     "execution_count": 12,
     "metadata": {},
     "output_type": "execute_result"
    }
   ],
   "source": [
    "ID = humancells[0]['id'] # the specimen id of the example mouse cell\n",
    "ID"
   ]
  },
  {
   "cell_type": "code",
   "execution_count": 13,
   "metadata": {},
   "outputs": [
    {
     "name": "stderr",
     "output_type": "stream",
     "text": [
      "2020-04-17 22:33:50,299 allensdk.api.api.retrieve_file_over_http INFO     Downloading URL: http://api.brain-map.org/api/v2/well_known_file_download/618211597\n"
     ]
    }
   ],
   "source": [
    "cta.save_ephys_data(specimen_id=cell_id,file_name='ephys_'+str(cell_id)+'.nwb')"
   ]
  },
  {
   "cell_type": "code",
   "execution_count": 18,
   "metadata": {},
   "outputs": [
    {
     "name": "stderr",
     "output_type": "stream",
     "text": [
      "2020-04-17 22:51:23,261 allensdk.api.api.retrieve_file_over_http INFO     Downloading URL: http://api.brain-map.org/api/v2/well_known_file_download/667320018\n"
     ]
    }
   ],
   "source": [
    "cta.save_reconstruction(specimen_id=ID,file_name='reconstruction_'+str(ID)+'.swc')"
   ]
  },
  {
   "cell_type": "code",
   "execution_count": 19,
   "metadata": {},
   "outputs": [
    {
     "data": {
      "text/plain": [
       "{'cell_reporter_status': None,\n",
       " 'csl__normalized_depth': 0.29095064121937,\n",
       " 'csl__x': 79.0,\n",
       " 'csl__y': 273.0,\n",
       " 'csl__z': 91.0,\n",
       " 'donor__age': '39 yrs',\n",
       " 'donor__disease_state': 'epilepsy',\n",
       " 'donor__id': 518641172,\n",
       " 'donor__name': 'H16.03.001',\n",
       " 'donor__race': 'White or Caucasian',\n",
       " 'donor__sex': 'Male',\n",
       " 'donor__species': 'Homo Sapiens',\n",
       " 'donor__years_of_seizure_history': '19',\n",
       " 'ef__adaptation': 0.179194027185622,\n",
       " 'ef__avg_firing_rate': 4.06658352762565,\n",
       " 'ef__avg_isi': 245.906666666667,\n",
       " 'ef__f_i_curve_slope': 0.0571428571428571,\n",
       " 'ef__fast_trough_v_long_square': -47.0,\n",
       " 'ef__peak_t_ramp': 9.88393333333333,\n",
       " 'ef__ri': 146.874636411667,\n",
       " 'ef__tau': 50.0490308584905,\n",
       " 'ef__threshold_i_long_square': 130.0,\n",
       " 'ef__upstroke_downstroke_ratio_long_square': 4.57486453842852,\n",
       " 'ef__vrest': -72.5476608276367,\n",
       " 'ephys_inst_thresh_thumb_path': '/api/v2/well_known_file_download/522910216',\n",
       " 'ephys_thumb_path': '/api/v2/well_known_file_download/522910214',\n",
       " 'erwkf__id': 618213231,\n",
       " 'line_name': '',\n",
       " 'm__biophys': 0,\n",
       " 'm__biophys_all_active': 0,\n",
       " 'm__biophys_perisomatic': 0,\n",
       " 'm__glif': 0,\n",
       " 'morph_thumb_path': '/api/v2/well_known_file_download/615966709',\n",
       " 'nr__average_contraction': 0.915422660611908,\n",
       " 'nr__average_parent_daughter_ratio': 0.990668425592948,\n",
       " 'nr__max_euclidean_distance': 504.253733142046,\n",
       " 'nr__number_bifurcations': 51,\n",
       " 'nr__number_stems': 7,\n",
       " 'nr__reconstruction_type': 'full',\n",
       " 'nrwkf__id': 667320018,\n",
       " 'si__height': 9432,\n",
       " 'si__path': '/external/humancelltypes/prod44/specimen_519832676/min_xy_519832676.aff',\n",
       " 'si__width': 7582,\n",
       " 'specimen__hemisphere': 'left',\n",
       " 'specimen__id': 519832676,\n",
       " 'specimen__name': 'H16.03.001.01.09.01',\n",
       " 'structure__acronym': 'MTG',\n",
       " 'structure__id': 12141,\n",
       " 'structure__layer': '3',\n",
       " 'structure__name': '\"middle temporal gyrus\"',\n",
       " 'structure_parent__acronym': 'MTG',\n",
       " 'structure_parent__id': 12141,\n",
       " 'tag__apical': 'truncated',\n",
       " 'tag__dendrite_type': 'spiny'}"
      ]
     },
     "execution_count": 19,
     "metadata": {},
     "output_type": "execute_result"
    }
   ],
   "source": [
    "cell = cta.get_cell(519832676) # A method to retrieve a single cell from the database, returning the same cell as in the line above\n",
    "cell\n"
   ]
  },
  {
   "cell_type": "code",
   "execution_count": 20,
   "metadata": {},
   "outputs": [
    {
     "data": {
      "text/html": [
       "<div>\n",
       "<style scoped>\n",
       "    .dataframe tbody tr th:only-of-type {\n",
       "        vertical-align: middle;\n",
       "    }\n",
       "\n",
       "    .dataframe tbody tr th {\n",
       "        vertical-align: top;\n",
       "    }\n",
       "\n",
       "    .dataframe thead th {\n",
       "        text-align: right;\n",
       "    }\n",
       "</style>\n",
       "<table border=\"1\" class=\"dataframe\">\n",
       "  <thead>\n",
       "    <tr style=\"text-align: right;\">\n",
       "      <th></th>\n",
       "      <th>cell_reporter_status</th>\n",
       "      <th>csl__normalized_depth</th>\n",
       "      <th>csl__x</th>\n",
       "      <th>csl__y</th>\n",
       "      <th>csl__z</th>\n",
       "      <th>donor__age</th>\n",
       "      <th>donor__disease_state</th>\n",
       "      <th>donor__id</th>\n",
       "      <th>donor__name</th>\n",
       "      <th>donor__race</th>\n",
       "      <th>...</th>\n",
       "      <th>specimen__id</th>\n",
       "      <th>specimen__name</th>\n",
       "      <th>structure__acronym</th>\n",
       "      <th>structure__id</th>\n",
       "      <th>structure__layer</th>\n",
       "      <th>structure__name</th>\n",
       "      <th>structure_parent__acronym</th>\n",
       "      <th>structure_parent__id</th>\n",
       "      <th>tag__apical</th>\n",
       "      <th>tag__dendrite_type</th>\n",
       "    </tr>\n",
       "  </thead>\n",
       "  <tbody>\n",
       "    <tr>\n",
       "      <th>13</th>\n",
       "      <td>None</td>\n",
       "      <td>0.290951</td>\n",
       "      <td>79.0</td>\n",
       "      <td>273.0</td>\n",
       "      <td>91.0</td>\n",
       "      <td>39 yrs</td>\n",
       "      <td>epilepsy</td>\n",
       "      <td>518641172</td>\n",
       "      <td>H16.03.001</td>\n",
       "      <td>White or Caucasian</td>\n",
       "      <td>...</td>\n",
       "      <td>519832676</td>\n",
       "      <td>H16.03.001.01.09.01</td>\n",
       "      <td>MTG</td>\n",
       "      <td>12141</td>\n",
       "      <td>3</td>\n",
       "      <td>\"middle temporal gyrus\"</td>\n",
       "      <td>MTG</td>\n",
       "      <td>12141</td>\n",
       "      <td>truncated</td>\n",
       "      <td>spiny</td>\n",
       "    </tr>\n",
       "  </tbody>\n",
       "</table>\n",
       "<p>1 rows × 54 columns</p>\n",
       "</div>"
      ],
      "text/plain": [
       "   cell_reporter_status  csl__normalized_depth  csl__x  csl__y  csl__z  \\\n",
       "13                 None               0.290951    79.0   273.0    91.0   \n",
       "\n",
       "   donor__age donor__disease_state  donor__id donor__name         donor__race  \\\n",
       "13     39 yrs             epilepsy  518641172  H16.03.001  White or Caucasian   \n",
       "\n",
       "    ... specimen__id       specimen__name structure__acronym  structure__id  \\\n",
       "13  ...    519832676  H16.03.001.01.09.01                MTG          12141   \n",
       "\n",
       "    structure__layer          structure__name  structure_parent__acronym  \\\n",
       "13                 3  \"middle temporal gyrus\"                        MTG   \n",
       "\n",
       "    structure_parent__id  tag__apical  tag__dendrite_type  \n",
       "13                 12141    truncated               spiny  \n",
       "\n",
       "[1 rows x 54 columns]"
      ]
     },
     "execution_count": 20,
     "metadata": {},
     "output_type": "execute_result"
    }
   ],
   "source": [
    "cells_df = pd.DataFrame(cells)\n",
    "cell_df = cells_df[cells_df.specimen__id==519832676] # get a cell according to its ID\n",
    "cell_df"
   ]
  },
  {
   "cell_type": "code",
   "execution_count": 25,
   "metadata": {},
   "outputs": [],
   "source": [
    "ef_df.to_csv(path_or_buf='S4-2.csv')"
   ]
  },
  {
   "cell_type": "code",
   "execution_count": null,
   "metadata": {},
   "outputs": [],
   "source": []
  }
 ],
 "metadata": {
  "kernelspec": {
   "display_name": "Python 3",
   "language": "python",
   "name": "python3"
  },
  "language_info": {
   "codemirror_mode": {
    "name": "ipython",
    "version": 3
   },
   "file_extension": ".py",
   "mimetype": "text/x-python",
   "name": "python",
   "nbconvert_exporter": "python",
   "pygments_lexer": "ipython3",
   "version": "3.6.10"
  }
 },
 "nbformat": 4,
 "nbformat_minor": 4
}
